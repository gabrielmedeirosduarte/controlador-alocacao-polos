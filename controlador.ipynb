{
 "cells": [
  {
   "cell_type": "code",
   "execution_count": 113,
   "metadata": {},
   "outputs": [],
   "source": [
    "import numpy as np\n",
    "import sympy as sp\n",
    "import control as ct\n",
    "import matplotlib.pyplot as plt"
   ]
  },
  {
   "cell_type": "markdown",
   "metadata": {},
   "source": [
    "### Sistema <h3>"
   ]
  },
  {
   "cell_type": "code",
   "execution_count": 114,
   "metadata": {},
   "outputs": [
    {
     "name": "stdout",
     "output_type": "stream",
     "text": [
      "G(s) =\n"
     ]
    },
    {
     "data": {
      "text/latex": [
       "$$\\frac{0.37}{10 s^2 + s}$$"
      ],
      "text/plain": [
       "TransferFunction(array([0.37]), array([10,  1,  0]))"
      ]
     },
     "execution_count": 114,
     "metadata": {},
     "output_type": "execute_result"
    }
   ],
   "source": [
    "# Sistema\n",
    "\n",
    "numG = [0, 0, 0.37]\n",
    "denG = [10, 1, 0]\n",
    "G = ct.tf(numG, denG)\n",
    "print(\"G(s) =\")\n",
    "G"
   ]
  },
  {
   "cell_type": "markdown",
   "metadata": {},
   "source": [
    "### Range de 'zeros' do controlador <h3>"
   ]
  },
  {
   "cell_type": "code",
   "execution_count": 115,
   "metadata": {},
   "outputs": [],
   "source": [
    "# Determinação do range de \"zeros\" (z) do controlador\n",
    "\n",
    "Z = np.arange(0, -0.26, -0.01)"
   ]
  },
  {
   "cell_type": "markdown",
   "metadata": {},
   "source": [
    "### Função de Transferência normalizada <h3>"
   ]
  },
  {
   "cell_type": "code",
   "execution_count": 116,
   "metadata": {},
   "outputs": [
    {
     "name": "stdout",
     "output_type": "stream",
     "text": [
      "G(s) =\n"
     ]
    },
    {
     "data": {
      "text/latex": [
       "$$\\frac{0.037}{s^2 + 0.1 s}$$"
      ],
      "text/plain": [
       "TransferFunction(array([0.037]), array([1. , 0.1, 0. ]))"
      ]
     },
     "execution_count": 116,
     "metadata": {},
     "output_type": "execute_result"
    }
   ],
   "source": [
    "# Normalização da função de transferência do sistema\n",
    "\n",
    "num_G = np.zeros(len(numG))\n",
    "den_G = np.zeros(len(denG))\n",
    "\n",
    "for i in range(len(numG)):\n",
    "    num_G[i] = numG[i]/denG[0]\n",
    "    \n",
    "for i in range(len(denG)):\n",
    "    den_G[i] = denG[i]/denG[0]\n",
    "\n",
    "G = ct.tf(num_G, den_G)\n",
    "print(\"G(s) =\")\n",
    "G"
   ]
  },
  {
   "cell_type": "markdown",
   "metadata": {},
   "source": [
    "### Cálculo dos polos de malha aberta <h3>"
   ]
  },
  {
   "cell_type": "code",
   "execution_count": 117,
   "metadata": {},
   "outputs": [
    {
     "name": "stdout",
     "output_type": "stream",
     "text": [
      "Polos de G(s) = [-0.1  0. ]\n"
     ]
    }
   ],
   "source": [
    "# Raízes da malha aberta\n",
    "\n",
    "casas_decimais = 4\n",
    "\n",
    "den_G = den_G[::-1]\n",
    "\n",
    "p = 0\n",
    "\n",
    "s = sp.Symbol('s')\n",
    "for i in range(len(den_G)):\n",
    "    p = p + den_G[i]*s**i\n",
    "\n",
    "den_G = den_G[::-1]\n",
    "\n",
    "roots = sp.solve(p, s)\n",
    "roots_np = np.array([float(root.evalf()) for root in roots])\n",
    "roots = np.round(roots_np, casas_decimais)\n",
    "print(\"Polos de G(s) =\", roots)"
   ]
  },
  {
   "cell_type": "markdown",
   "metadata": {},
   "source": [
    "### Especificações de projeto <h3>"
   ]
  },
  {
   "cell_type": "code",
   "execution_count": 118,
   "metadata": {},
   "outputs": [
    {
     "name": "stdout",
     "output_type": "stream",
     "text": [
      "ωn = 0.1014\n",
      "ζ = 0.6901\n",
      "ζ.ωn = 0.07\n"
     ]
    }
   ],
   "source": [
    "# Especificações de projeto\n",
    "\n",
    "MUP = 5\n",
    "ts = 57.14\n",
    "\n",
    "zeta = -np.log(MUP/100)/(np.sqrt(np.pi**2+np.log(MUP/100)**2))\n",
    "zeta_wn = 4/ts\n",
    "wn = zeta_wn/zeta\n",
    "\n",
    "wn = round(wn, casas_decimais)\n",
    "zeta = round(zeta, casas_decimais)\n",
    "zeta_wn = round(zeta_wn, casas_decimais)\n",
    "\n",
    "print(\"ωn =\", wn)\n",
    "print(\"ζ =\", zeta)\n",
    "print(\"ζ.ωn =\", zeta_wn)"
   ]
  },
  {
   "cell_type": "markdown",
   "metadata": {},
   "source": [
    "### Determinação do polo conjugado desejado"
   ]
  },
  {
   "cell_type": "code",
   "execution_count": 119,
   "metadata": {},
   "outputs": [
    {
     "name": "stdout",
     "output_type": "stream",
     "text": [
      "s (re) = -0.07\n",
      "s (im) = 0.0734\n"
     ]
    }
   ],
   "source": [
    "# Polo conjugado desejado\n",
    "\n",
    "s_re = -zeta_wn\n",
    "s_im = wn*np.sqrt(1-zeta**2)\n",
    "\n",
    "s_re = np.round(s_re, casas_decimais)\n",
    "s_im = np.round(s_im, casas_decimais)\n",
    "\n",
    "print(\"s (re) =\", s_re)\n",
    "print(\"s (im) =\", s_im)"
   ]
  },
  {
   "cell_type": "markdown",
   "metadata": {},
   "source": [
    "### Cálculo do 'polo' do controlador, para diferentes 'zeros'"
   ]
  },
  {
   "cell_type": "code",
   "execution_count": 120,
   "metadata": {},
   "outputs": [
    {
     "name": "stdout",
     "output_type": "stream",
     "text": [
      "z = 0.0 === p = -0.04 === K = 0.1699 === ep = 0.0976 === ev = 1.00000000000000\n",
      "z = -0.01 === p = -0.0464 === K = 0.1768 === ep = 0 === ev = 0.9261\n",
      "z = -0.02 === p = -0.0533 === K = 0.1843 === ep = 0 === ev = 0.8780\n",
      "z = -0.03 === p = -0.0608 === K = 0.1924 === ep = 0 === ev = 0.8455\n",
      "z = -0.04 === p = -0.0689 === K = 0.2012 === ep = 0 === ev = 0.8233\n",
      "z = -0.05 === p = -0.0779 === K = 0.2109 === ep = 0 === ev = 0.8082\n",
      "z = -0.06 === p = -0.0878 === K = 0.2216 === ep = 0 === ev = 0.7982\n",
      "z = -0.07 === p = -0.0988 === K = 0.2335 === ep = 0 === ev = 0.7923\n",
      "z = -0.08 === p = -0.111 === K = 0.2467 === ep = 0 === ev = 0.7894\n",
      "z = -0.09 === p = -0.1246 === K = 0.2614 === ep = 0 === ev = 0.7891\n",
      "z = -0.1 === p = -0.14 === K = 0.2780 === ep = 0 === ev = 0.7910\n",
      "z = -0.11 === p = -0.1575 === K = 0.2969 === ep = 0 === ev = 0.7946\n",
      "z = -0.12 === p = -0.1775 === K = 0.3186 === ep = 0 === ev = 0.7999\n",
      "z = -0.13 === p = -0.2007 === K = 0.3436 === ep = 0 === ev = 0.8066\n",
      "z = -0.14 === p = -0.2278 === K = 0.3729 === ep = 0 === ev = 0.8147\n",
      "z = -0.15 === p = -0.26 === K = 0.4077 === ep = 0 === ev = 0.8241\n",
      "z = -0.16 === p = -0.2988 === K = 0.4497 === ep = 0 === ev = 0.8346\n",
      "z = -0.17 === p = -0.3465 === K = 0.5013 === ep = 0 === ev = 0.8464\n",
      "z = -0.18 === p = -0.4066 === K = 0.5662 === ep = 0 === ev = 0.8592\n",
      "z = -0.19 === p = -0.4845 === K = 0.6505 === ep = 0 === ev = 0.8733\n",
      "z = -0.2 === p = -0.5897 === K = 0.7642 === ep = 0 === ev = 0.8885\n",
      "z = -0.21 === p = -0.7395 === K = 0.9262 === ep = 0 === ev = 0.9049\n",
      "z = -0.22 === p = -0.9699 === K = 1.1752 === ep = 0 === ev = 0.9226\n",
      "z = -0.23 === p = -1.3697 === K = 1.6075 === ep = 0 === ev = 0.9415\n",
      "z = -0.24 === p = -2.2347 === K = 2.5426 === ep = 0 === ev = 0.9618\n",
      "z = -0.25 === p = -5.5063 === K = 6.0795 === ep = 0 === ev = 0.9835\n"
     ]
    }
   ],
   "source": [
    "# Dados a serem armazenados\n",
    "polos_C = []\n",
    "zeros_C = []\n",
    "ganhos_C = []\n",
    "erros_p = []\n",
    "erros_v = []\n",
    "\n",
    "for z in Z:\n",
    "    # Ângulo do zero do controlador\n",
    "    if z == -zeta_wn:\n",
    "        alpha_1 = np.pi/2\n",
    "    if z > -zeta_wn:    \n",
    "        alpha_1 = np.pi - np.arctan(s_im/abs((abs(z)-abs(zeta_wn))))\n",
    "    if z < -zeta_wn:\n",
    "        alpha_1 = np.arctan(s_im/abs((abs(z)-abs(zeta_wn))))\n",
    "        \n",
    "    # Ângulo do primeiro polo de G(s)\n",
    "    if roots[0] == -zeta_wn:\n",
    "        theta_1 = np.pi/2\n",
    "    if roots[0] > -zeta_wn:\n",
    "        theta_1 = np.pi - np.arctan((s_im)/(abs(abs(roots[0])-abs(zeta_wn))))\n",
    "    if roots[0] < -zeta_wn:\n",
    "        theta_1 = np.arctan((s_im)/(abs(abs(roots[0])-abs(zeta_wn))))\n",
    "\n",
    "    # Ângulo do segundo polo de G(s)\n",
    "    if roots[1] == -zeta_wn:\n",
    "        theta_2 = np.pi/2\n",
    "    if roots[1] > -zeta_wn:\n",
    "        theta_2 = np.pi - np.arctan((s_im)/(abs(abs(roots[1])-abs(zeta_wn))))\n",
    "    if roots[1] < -zeta_wn:\n",
    "        theta_2 = np.arctan((s_im)/(abs(abs(roots[1])-abs(zeta_wn))))\n",
    "\n",
    "    # Ângulo do polo do controlador a ser alocado \n",
    "    theta_3 = -(-np.pi - alpha_1 + theta_1 + theta_2)\n",
    "\n",
    "    # Cálculo do polo do controlador\n",
    "    if np.degrees(theta_3) == 90:\n",
    "        x = 0\n",
    "        p = -zeta_wn\n",
    "    if np.degrees(theta_3) > 90:\n",
    "        x = s_im/np.tan(np.pi-theta_3)\n",
    "        p = -(zeta_wn - x)\n",
    "    if np.degrees(theta_3) < 90:\n",
    "        x = s_im/np.tan(theta_3)\n",
    "        p = -(zeta_wn + x)\n",
    "\n",
    "    # Função de transferência do controlador C(s)\n",
    "    num_C = [1, -z]\n",
    "    den_C = [1, -p]\n",
    "    C = ct.tf(num_C, den_C)\n",
    "\n",
    "    # Polo conjugado da malha fechada (polo desejado)\n",
    "    s_ = s_re + s_im*1j\n",
    "\n",
    "    # Expressão de C(s)\n",
    "    num_C = num_C[::-1]\n",
    "    den_C = den_C[::-1]\n",
    "    num_C_expr = sum([num_C[i] * s**i for i in range(len(num_C))])\n",
    "    den_C_expr = sum([den_C[i] * s**i for i in range(len(den_C))])\n",
    "    C_expr = num_C_expr / den_C_expr\n",
    "    C_expr_sub = C_expr.subs(s, s_)\n",
    "    num_C = num_C[::-1]\n",
    "    den_C = den_C[::-1]\n",
    "\n",
    "    # Expressão de G(s)\n",
    "    num_G = num_G[::-1]\n",
    "    den_G = den_G[::-1]\n",
    "    num_G_expr = sum([num_G[i] * s**i for i in range(len(num_G))])\n",
    "    den_G_expr = sum([den_G[i] * s**i for i in range(len(den_G))])\n",
    "    G_expr = num_G_expr / den_G_expr\n",
    "    G_expr_sub = G_expr.subs(s, s_)\n",
    "    num_G = num_G[::-1]\n",
    "    den_G = den_G[::-1]\n",
    "\n",
    "    # Cálculo de K\n",
    "    K = np.abs(1/(C_expr_sub*G_expr_sub))\n",
    "    K = sp.expand(K)\n",
    "\n",
    "    # Erro de posição em regime permanente\n",
    "    kp = sp.limit(C_expr*G_expr, s, 0)\n",
    "    e_p = 1/(1+kp)\n",
    "\n",
    "    # Erro de velocidade em regime permanente\n",
    "    kv = sp.limit(s*C_expr*G_expr, s, 0)\n",
    "    e_v = 1/(1+kv)\n",
    "\n",
    "    # Armazenando os dados nos arrays\n",
    "    polos_C.append(p)\n",
    "    zeros_C.append(z)\n",
    "    ganhos_C.append(K)\n",
    "    erros_p.append(e_p.evalf())\n",
    "    erros_v.append(e_v.evalf())\n",
    "\n",
    "    # Printando os dados\n",
    "    print(\"z =\", round(z,4), \"===\", \"p =\", round(p,4), \"===\", \"K =\", round(K,4), \"===\", \"ep =\", round(e_p.evalf(),4), \"===\", \"ev =\", round(e_v.evalf(),4))"
   ]
  },
  {
   "cell_type": "markdown",
   "metadata": {},
   "source": [
    "### Escolha do melhor controlador <h3>\n",
    "\n",
    "#### A escolha é baseada no menor erro de posição e de velocidade. Como se trata do controle de posição de um motor, prioriza-se o erro de posição <h4>"
   ]
  },
  {
   "cell_type": "code",
   "execution_count": 121,
   "metadata": {},
   "outputs": [
    {
     "name": "stdout",
     "output_type": "stream",
     "text": [
      "Função de transferência do controlador escolhido:\n"
     ]
    },
    {
     "data": {
      "text/latex": [
       "$$\\frac{0.2614 s + 0.02353}{s + 0.1246}$$"
      ],
      "text/plain": [
       "TransferFunction(array([0.26141175, 0.02352706]), array([1.        , 0.12461687]))"
      ]
     },
     "execution_count": 121,
     "metadata": {},
     "output_type": "execute_result"
    }
   ],
   "source": [
    "# Escolha do melhor controlador\n",
    "\n",
    "best_id = 0\n",
    "\n",
    "min_value_p = np.min(erros_p)\n",
    "min_id_p = []\n",
    "\n",
    "for i in range(len(Z)):\n",
    "    if erros_p[i] == min_value_p:\n",
    "        min_id_p.append(i)\n",
    "\n",
    "min_value_v = 1000\n",
    "for i in min_id_p:\n",
    "    if erros_v[i] < min_value_v:\n",
    "        min_value_v = erros_v[i]\n",
    "        best_id = i\n",
    "\n",
    "best_K = ganhos_C[best_id]\n",
    "best_p = polos_C[best_id]\n",
    "best_z = zeros_C[best_id]\n",
    "\n",
    "num_Cs = np.array([1, -best_z])\n",
    "den_Cs = np.array([1, -best_p])\n",
    "\n",
    "print(\"Função de transferência do controlador escolhido:\")\n",
    "C_s = ct.tf(num_Cs, den_Cs)\n",
    "C_s = float(best_K) * C_s\n",
    "C_s"
   ]
  },
  {
   "cell_type": "markdown",
   "metadata": {},
   "source": [
    "### Resposta ao degrau com o melhor controlador <h3>"
   ]
  },
  {
   "cell_type": "code",
   "execution_count": 122,
   "metadata": {},
   "outputs": [
    {
     "data": {
      "image/png": "[encoded data removed]",
      "text/plain": [
       "<Figure size 640x480 with 1 Axes>"
      ]
     },
     "metadata": {},
     "output_type": "display_data"
    }
   ],
   "source": [
    "# Resposta ao degrau\n",
    "\n",
    "time = np.arange(0, 100, 0.01)\n",
    "MF = (G*C_s)/(1+(G*C_s))\n",
    "t, y = ct.step_response(MF, T=time)\n",
    "\n",
    "# Máximo sobressinal\n",
    "MUP_real = ((np.max(y)-1)/np.max(y))*100\n",
    "\n",
    "# Tempo de acomodação\n",
    "y = y[::-1]\n",
    "for i in range(len(y)):\n",
    "    if abs(y[i]-1) > 0.02:\n",
    "        ts_real = t[len(t)-i]\n",
    "        break\n",
    "y = y[::-1]\n",
    "\n",
    "plt.title('Resposta ao Degrau:' + ' MUP = ' +  str(round(MUP_real,2)) + '%,' + ' ts = ' + str(round(ts_real,2)) + 's.')\n",
    "plt.axhline(0.98, color='black', linestyle='--', label='Tolerância de 2%')\n",
    "plt.axhline(1.02, color='black', linestyle='--')\n",
    "plt.plot(t, y)\n",
    "plt.xlabel('t')\n",
    "plt.ylabel('y')\n",
    "plt.xlim(0,100)\n",
    "plt.legend()\n",
    "plt.grid()"
   ]
  },
  {
   "cell_type": "markdown",
   "metadata": {},
   "source": [
    "### Especificações obtidas comparadas com as desejadas <h3>"
   ]
  },
  {
   "cell_type": "code",
   "execution_count": 123,
   "metadata": {},
   "outputs": [
    {
     "name": "stdout",
     "output_type": "stream",
     "text": [
      "Desejadas:\n",
      "ts = 57.14 s\n",
      "MUP = 5 %\n",
      "Obtidas:\n",
      "ts = 58.55 s\n",
      "MUP = 4.0355 %\n"
     ]
    }
   ],
   "source": [
    "print(\"Desejadas:\")\n",
    "print(\"ts =\", ts, \"s\")\n",
    "print(\"MUP =\", MUP, \"%\")\n",
    "\n",
    "print(\"Obtidas:\")\n",
    "print(\"ts =\", round(ts_real, 4), \"s\")\n",
    "print(\"MUP =\", round(MUP_real, 4), \"%\")"
   ]
  }
 ],
 "metadata": {
  "kernelspec": {
   "display_name": "Python 3",
   "language": "python",
   "name": "python3"
  },
  "language_info": {
   "codemirror_mode": {
    "name": "ipython",
    "version": 3
   },
   "file_extension": ".py",
   "mimetype": "text/x-python",
   "name": "python",
   "nbconvert_exporter": "python",
   "pygments_lexer": "ipython3",
   "version": "3.10.11"
  }
 },
 "nbformat": 4,
 "nbformat_minor": 2
}
